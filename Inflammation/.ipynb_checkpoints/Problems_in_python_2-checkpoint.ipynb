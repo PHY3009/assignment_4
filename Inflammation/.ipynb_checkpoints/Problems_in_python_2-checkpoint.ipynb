{
 "cells": [
  {
   "cell_type": "code",
   "execution_count": 49,
   "metadata": {
    "collapsed": false
   },
   "outputs": [
    {
     "name": "stdout",
     "output_type": "stream",
     "text": [
      "notweN\n"
     ]
    }
   ],
   "source": [
    "# I first import necessary tools to compute in the notebook\n",
    "import numpy\n",
    "import matplotlib\n",
    "\n",
    "# a. I want to have a word 'Newton' and reverse the order of that string so it prints backwards\n",
    "\n",
    "#I define my variable, word, to be Newton. It's a string (of letters), so it's put in quotes\n",
    "word = 'Newton'\n",
    "\n",
    "#I define the variable of the reverse of my word to be the whole word and the word from end to start\n",
    "reverse_word = word[: :-1]\n",
    "\n",
    "#I print the new variable \n",
    "print(reverse_word)"
   ]
  },
  {
   "cell_type": "code",
   "execution_count": 50,
   "metadata": {
    "collapsed": false
   },
   "outputs": [
    {
     "name": "stdout",
     "output_type": "stream",
     "text": [
      "The array is [2 3 1 0]\n",
      "The standard mean of the array is 1.5\n"
     ]
    }
   ],
   "source": [
    "# b. This function takes in an array or list of numbers and calculates the standard error\n",
    "\n",
    "#I create the input variable\n",
    "array = numpy.array([2,3,1,0])\n",
    "print('The array is', array) #testing to make sure the list work\n",
    "\n",
    "#I definte my function for standard mean\n",
    "def standard_mean(array):\n",
    "    '''Function to calculare standard mean of an array\n",
    "    Input: array\n",
    "    Output: mean of the array'''\n",
    "    mean_array = (array.sum()/len(array)) #standard mean is the sum of the array divided by the number of items\n",
    "    return mean_array #I tell python what I want the output of the function to be\n",
    "\n",
    "s_m = standard_mean(array) #I define the output variable I want printed\n",
    "print('The standard mean of the array is', s_m)\n",
    "\n"
   ]
  },
  {
   "cell_type": "code",
   "execution_count": 51,
   "metadata": {
    "collapsed": false
   },
   "outputs": [
    {
     "name": "stdout",
     "output_type": "stream",
     "text": [
      "The standard error of Array is 0.75\n"
     ]
    }
   ],
   "source": [
    "#I can now make a function to calculate standard error from standard mean\n",
    "def standard_error(array):\n",
    "    '''Function to calculare standard error of an array\n",
    "    Input: mean of the array\n",
    "    Output: standard error of the array'''\n",
    "    st_error = (s_m/(len(array))**(1/2)) #standard error is the mean divided by the square root of the number of items in the array\n",
    "    return st_error #I tell python what I want the output of the function to be\n",
    "\n",
    "s_e = standard_error(array) #I define the output\n",
    "print('The standard error of Array is', s_e)"
   ]
  },
  {
   "cell_type": "code",
   "execution_count": 52,
   "metadata": {
    "collapsed": false
   },
   "outputs": [
    {
     "name": "stdout",
     "output_type": "stream",
     "text": [
      "[2 3 1 0]\n"
     ]
    }
   ],
   "source": [
    "# c. I can test for whether an input is a string of items or a number by using an if/else loop:\n",
    "array1 = numpy.array([2,3,1,0])\n",
    "\n",
    "if type(array1[0])== type('string'):\n",
    "        print('Input was a string, I cannot calculate the standard error of a string')\n",
    "else:\n",
    "    def standard_error(array1): \n",
    "        error = (array1.std())/len(array1)**(1/2) #error is the standard deviation divided by the square root of the number of items in the array\n",
    "        return error #I want the output to be standard error\n",
    "print(array1)"
   ]
  },
  {
   "cell_type": "code",
   "execution_count": 53,
   "metadata": {
    "collapsed": false
   },
   "outputs": [
    {
     "name": "stdout",
     "output_type": "stream",
     "text": [
      "Input was a string, I cannot calculate the standard error of a string\n",
      "string\n"
     ]
    }
   ],
   "source": [
    "#I test my if/else statement by intentionally inputing a string\n",
    "array2 = 'string'\n",
    "\n",
    "if type(array2[0])== type('string'):\n",
    "        print('Input was a string, I cannot calculate the standard error of a string')\n",
    "else:\n",
    "    def standard_error(array2):\n",
    "        error = (array2.std())/len(array2)**(1/2)\n",
    "        return error\n",
    "print(array2)"
   ]
  },
  {
   "cell_type": "code",
   "execution_count": 54,
   "metadata": {
    "collapsed": false
   },
   "outputs": [
    {
     "data": {
      "text/plain": [
       "(60, 40)"
      ]
     },
     "execution_count": 54,
     "metadata": {},
     "output_type": "execute_result"
    }
   ],
   "source": [
    "# d. I can use my function to calculate standard error for each patient in the Inflammation-01 data set\n",
    "import numpy\n",
    "\n",
    "data = numpy.loadtxt(fname ='inflammation-01.csv', delimiter=',')\n",
    "\n",
    "data.shape #there are 60 patients (rows), monitoried over 40 days (columns)"
   ]
  },
  {
   "cell_type": "code",
   "execution_count": 82,
   "metadata": {
    "collapsed": false
   },
   "outputs": [
    {
     "name": "stdout",
     "output_type": "stream",
     "text": [
      "[ 0.          0.06422616  0.09455059  0.13667683  0.14599594  0.17767792\n",
      "  0.22085692  0.25176231  0.24873755  0.29201566  0.35388714  0.32377976\n",
      "  0.40471183  0.39921219  0.48417551  0.51934788  0.4934525   0.45702338\n",
      "  0.50955682  0.58110288  0.54753234  0.58735124  0.54209812  0.52923775\n",
      "  0.4790036   0.46587234  0.4148795   0.35872072  0.34614277  0.41250701\n",
      "  0.32477913  0.27225907  0.20961826  0.22997584  0.22766935  0.17852274\n",
      "  0.14432153  0.15        0.1039943   0.06397337]\n"
     ]
    }
   ],
   "source": [
    "# I want to calculate the standard error for each patient\n",
    "# each patient can be assigned a row number 0 to 60 using (axis=0) so the axis for each calculated error value is for one patient\n",
    "\n",
    "patient_standard_error = (data.std(axis=0))/len(data)**(1/2) #\n",
    "\n",
    "print(patient_standard_error)\n"
   ]
  },
  {
   "cell_type": "code",
   "execution_count": 88,
   "metadata": {
    "collapsed": false
   },
   "outputs": [
    {
     "ename": "TypeError",
     "evalue": "'numpy.ndarray' object is not callable",
     "output_type": "error",
     "traceback": [
      "\u001b[0;31m---------------------------------------------------------------------------\u001b[0m",
      "\u001b[0;31mTypeError\u001b[0m                                 Traceback (most recent call last)",
      "\u001b[0;32m<ipython-input-88-016694d5dd6d>\u001b[0m in \u001b[0;36m<module>\u001b[0;34m()\u001b[0m\n\u001b[1;32m      1\u001b[0m \u001b[0;31m#when I try to call my own function, I cannot input the axis parameter\u001b[0m\u001b[0;34m\u001b[0m\u001b[0;34m\u001b[0m\u001b[0m\n\u001b[1;32m      2\u001b[0m \u001b[0;34m\u001b[0m\u001b[0m\n\u001b[0;32m----> 3\u001b[0;31m \u001b[0mpatient_standard_error\u001b[0m \u001b[0;34m=\u001b[0m \u001b[0mstandard_error\u001b[0m\u001b[0;34m(\u001b[0m\u001b[0mdata\u001b[0m\u001b[0;34m(\u001b[0m\u001b[0maxis\u001b[0m\u001b[0;34m=\u001b[0m\u001b[0;36m0\u001b[0m\u001b[0;34m)\u001b[0m\u001b[0;34m)\u001b[0m\u001b[0;34m\u001b[0m\u001b[0m\n\u001b[0m\u001b[1;32m      4\u001b[0m \u001b[0;34m\u001b[0m\u001b[0m\n\u001b[1;32m      5\u001b[0m \u001b[0mprint\u001b[0m\u001b[0;34m(\u001b[0m\u001b[0mpatient_standard_error\u001b[0m\u001b[0;34m)\u001b[0m\u001b[0;34m\u001b[0m\u001b[0m\n",
      "\u001b[0;31mTypeError\u001b[0m: 'numpy.ndarray' object is not callable"
     ]
    }
   ],
   "source": [
    "#when I try to call my own function, I cannot input the axis parameter\n",
    "\n",
    "patient_standard_error = standard_error(data(axis=0))\n",
    "\n",
    "print(patient_standard_error)"
   ]
  },
  {
   "cell_type": "code",
   "execution_count": 89,
   "metadata": {
    "collapsed": false
   },
   "outputs": [
    {
     "name": "stdout",
     "output_type": "stream",
     "text": [
      "Standard error for Inflammation 01 is 0.595643304487\n"
     ]
    }
   ],
   "source": [
    "#It does work for all patients combined...\n",
    "#standard error of entire data set (not patient specific)\n",
    "\n",
    "inflammation_standard_error = standard_error(data)\n",
    "\n",
    "print('Standard error for Inflammation 01 is', inflammation_standard_error)"
   ]
  },
  {
   "cell_type": "code",
   "execution_count": 77,
   "metadata": {
    "collapsed": false
   },
   "outputs": [
    {
     "name": "stdout",
     "output_type": "stream",
     "text": [
      "[ 0.  0.  0.  0.  0.  0.  0.  0.  0.  0.  0.  0.  0.  0.  0.  0.  0.  0.\n",
      "  0.  0.  0.  0.  0.  0.  0.  0.  0.  0.  0.  0.  0.  0.  0.  0.  0.  0.\n",
      "  0.  0.  0.  0.  0.  0.  0.  0.  0.  0.  0.  0.  0.  0.  0.  0.  0.  0.\n",
      "  0.  0.  0.  0.  0.  0.]\n"
     ]
    }
   ],
   "source": [
    "patient1=data[:,0] #I define the input for the variable patient one\n",
    "print(data[:,0]) #I test my code for the first patient"
   ]
  },
  {
   "cell_type": "code",
   "execution_count": null,
   "metadata": {
    "collapsed": true
   },
   "outputs": [],
   "source": []
  }
 ],
 "metadata": {
  "kernelspec": {
   "display_name": "Python 3",
   "language": "python",
   "name": "python3"
  },
  "language_info": {
   "codemirror_mode": {
    "name": "ipython",
    "version": 3
   },
   "file_extension": ".py",
   "mimetype": "text/x-python",
   "name": "python",
   "nbconvert_exporter": "python",
   "pygments_lexer": "ipython3",
   "version": "3.4.3"
  }
 },
 "nbformat": 4,
 "nbformat_minor": 0
}
