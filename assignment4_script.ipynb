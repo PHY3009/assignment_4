{
 "cells": [
  {
   "cell_type": "code",
   "execution_count": 1,
   "metadata": {
    "collapsed": false
   },
   "outputs": [
    {
     "name": "stdout",
     "output_type": "stream",
     "text": [
      "notweN\n"
     ]
    }
   ],
   "source": [
    "#function that takes a string as input, and outputs the string, backwards\n",
    "#Usage: backwards_word = reverse_string(string)\n",
    "def reverse_string(string):\n",
    "    #empty string that will contain the reversed word\n",
    "    backward = \"\"\n",
    "    #iterates over each letter, adding letters to 'backward' starting from the end of the input string\n",
    "    for i in range(1,len(string) + 1):\n",
    "        backward += string[-i]\n",
    "    return backward\n",
    "\n",
    "word = \"Newton\"\n",
    "print(reverse_string(word))\n",
    "        \n",
    "    "
   ]
  },
  {
   "cell_type": "code",
   "execution_count": null,
   "metadata": {
    "collapsed": true
   },
   "outputs": [],
   "source": []
  }
 ],
 "metadata": {
  "kernelspec": {
   "display_name": "Python 3",
   "language": "python",
   "name": "python3"
  },
  "language_info": {
   "codemirror_mode": {
    "name": "ipython",
    "version": 3
   },
   "file_extension": ".py",
   "mimetype": "text/x-python",
   "name": "python",
   "nbconvert_exporter": "python",
   "pygments_lexer": "ipython3",
   "version": "3.4.3"
  }
 },
 "nbformat": 4,
 "nbformat_minor": 0
}
