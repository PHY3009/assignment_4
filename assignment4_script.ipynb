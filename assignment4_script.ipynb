{
 "cells": [
  {
   "cell_type": "code",
   "execution_count": 4,
   "metadata": {
    "collapsed": true
   },
   "outputs": [],
   "source": [
    "import numpy"
   ]
  },
  {
   "cell_type": "code",
   "execution_count": 1,
   "metadata": {
    "collapsed": false
   },
   "outputs": [
    {
     "name": "stdout",
     "output_type": "stream",
     "text": [
      "notweN\n"
     ]
    }
   ],
   "source": [
    "#function that takes a string as input, and outputs the string, backwards\n",
    "#Usage: backwards_word = reverse_string(string)\n",
    "def reverse_string(string):\n",
    "    #empty string that will contain the reversed word\n",
    "    backward = \"\"\n",
    "    #iterates over each letter, adding letters to 'backward' starting from the end of the input string\n",
    "    for i in range(1,len(string) + 1):\n",
    "        backward += string[-i]\n",
    "    return backward\n",
    "\n",
    "word = \"Newton\"\n",
    "print(reverse_string(word))"
   ]
  },
  {
   "cell_type": "code",
   "execution_count": 10,
   "metadata": {
    "collapsed": false
   },
   "outputs": [
    {
     "name": "stdout",
     "output_type": "stream",
     "text": [
      "0.6324555320336759\n"
     ]
    }
   ],
   "source": [
    "#function to calculate the standard error of a set of data\n",
    "def std_error(data):\n",
    "    '''This function is used to calculate the standard error of the mean, from a given set of data.\n",
    "    Usage: error = std_error(input_array)\n",
    "    \n",
    "    Input array must only contain numbers, and not strings or other data types. The function will throw an error if a string is given.'''\n",
    "    \n",
    "    std_deviation = 0\n",
    "    \n",
    "    #tries sum(data) to calculate mean, and to find if array only contains numbers\n",
    "    #sum(data) will throw a TypeError if one or more values in the array are not numbers\n",
    "    try:\n",
    "        mean = sum(data)/len(data)\n",
    "    #prints error message if data contains a string\n",
    "    except TypeError:\n",
    "        print(\"The array contains one or more strings. Please input an array containing only numbers.\")\n",
    "        return None\n",
    "    #iterates through 'data'\n",
    "    for number in data:\n",
    "        #Finds the difference between 'number' and 'mean'\n",
    "        #squares the difference, and adds it to 'std_deviation'\n",
    "        std_deviation += (number - mean) ** 2\n",
    "        \n",
    "    #divides by the length of the array\n",
    "    #this value is the varience\n",
    "    std_deviation /= len(data)\n",
    "    \n",
    "    #finds the square root of the varience to get standard deviation\n",
    "    std_deviation = std_deviation ** 0.5\n",
    "    \n",
    "    #Calculates the standard error of the mean\n",
    "    std_error = std_deviation/(len(data) ** 0.5)\n",
    "    \n",
    "    return std_error\n"
   ]
  }
 ],
 "metadata": {
  "kernelspec": {
   "display_name": "Python 3",
   "language": "python",
   "name": "python3"
  },
  "language_info": {
   "codemirror_mode": {
    "name": "ipython",
    "version": 3
   },
   "file_extension": ".py",
   "mimetype": "text/x-python",
   "name": "python",
   "nbconvert_exporter": "python",
   "pygments_lexer": "ipython3",
   "version": "3.4.3"
  }
 },
 "nbformat": 4,
 "nbformat_minor": 0
}
