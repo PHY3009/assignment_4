{
 "cells": [
  {
   "cell_type": "code",
   "execution_count": 4,
   "metadata": {
    "collapsed": true
   },
   "outputs": [],
   "source": [
    "import numpy"
   ]
  },
  {
   "cell_type": "code",
   "execution_count": 1,
   "metadata": {
    "collapsed": false
   },
   "outputs": [
    {
     "name": "stdout",
     "output_type": "stream",
     "text": [
      "notweN\n"
     ]
    }
   ],
   "source": [
    "#function that takes a string as input, and outputs the string, backwards\n",
    "#Usage: backwards_word = reverse_string(string)\n",
    "def reverse_string(string):\n",
    "    #empty string that will contain the reversed word\n",
    "    backward = \"\"\n",
    "    #iterates over each letter, adding letters to 'backward' starting from the end of the input string\n",
    "    for i in range(1,len(string) + 1):\n",
    "        backward += string[-i]\n",
    "    return backward\n",
    "\n",
    "word = \"Newton\"\n",
    "print(reverse_string(word))"
   ]
  },
  {
   "cell_type": "code",
   "execution_count": 10,
   "metadata": {
    "collapsed": false
   },
   "outputs": [
    {
     "name": "stdout",
     "output_type": "stream",
     "text": [
      "0.6324555320336759\n"
     ]
    }
   ],
   "source": [
    "#function to calculate the standard error of a set of data\n",
    "def std_error(data):\n",
    "    '''This function is used to calculate the standard error of the mean, from a given set of data.\n",
    "    Usage: error = std_error(input_array)\n",
    "    \n",
    "    Input array must only contain numbers, and not strings or other data types. The function will throw an error if a string is given.'''\n",
    "    \n",
    "    std_deviation = 0\n",
    "    \n",
    "    #tries sum(data) to calculate mean, and to find if array only contains numbers\n",
    "    #sum(data) will throw a TypeError if one or more values in the array are not numbers\n",
    "    try:\n",
    "        mean = sum(data)/len(data)\n",
    "    #prints error message if data contains a string\n",
    "    except TypeError:\n",
    "        print(\"The array contains one or more strings. Please input an array containing only numbers.\")\n",
    "        return None\n",
    "    #iterates through 'data'\n",
    "    for number in data:\n",
    "        #Finds the difference between 'number' and 'mean'\n",
    "        #squares the difference, and adds it to 'std_deviation'\n",
    "        std_deviation += (number - mean) ** 2\n",
    "        \n",
    "    #divides by the length of the array\n",
    "    #this value is the varience\n",
    "    std_deviation /= len(data)\n",
    "    \n",
    "    #finds the square root of the varience to get standard deviation\n",
    "    std_deviation = std_deviation ** 0.5\n",
    "    \n",
    "    #Calculates the standard error of the mean\n",
    "    std_error = std_deviation/(len(data) ** 0.5)\n",
    "    \n",
    "    return std_error\n"
   ]
  },
  {
   "cell_type": "code",
   "execution_count": 15,
   "metadata": {
    "collapsed": false
   },
   "outputs": [
    {
     "name": "stdout",
     "output_type": "stream",
     "text": [
      "[0.61639070401815765, 0.68363687363980008, 0.75232971495216083, 0.67527772064536529, 0.6412390349939715, 0.74957279499725704, 0.66472503713941755, 0.82503787791834127, 0.72945827502332161, 0.79999023431539462, 0.79568170457790466, 0.68300805266116738, 0.67034272950484053, 0.69888303742471802, 0.66847541091651219, 0.70904865841492148, 0.77051119394853684, 0.74263045991933307, 0.69959809891108204, 0.80541138556640723, 0.76851114175397606, 0.63234434843683074, 0.75901869212819795, 0.72698005474703353, 0.75016664815226208, 0.73729870134159325, 0.79682965557263252, 0.74203057551559148, 0.75901869212819795, 0.7999609365462792, 0.68637407803616823, 0.70847547593406479, 0.68281357265361953, 0.66444290574886866, 0.87706007490935323, 0.70797907808070137, 0.64554966888691079, 0.7886301414478144, 0.78133499537650297, 0.73293076071345231]\n"
     ]
    }
   ],
   "source": [
    "#loads inflammation data\n",
    "inflammation_data = numpy.loadtxt(fname = \"inflammation-01.csv\", delimiter = \",\")\n",
    "#empty array which will contain the standard error for each patient\n",
    "inflammation_std_error = []\n",
    "#loops through for each patient\n",
    "for patient in range(0,40):\n",
    "    #calls standard error function for each patient's data\n",
    "    patient_std_error = std_error(inflammation_data[patient])\n",
    "    #appends the standard error to the standard error array\n",
    "    inflammation_std_error.append(patient_std_error)\n",
    "print(inflammation_std_error)"
   ]
  }
 ],
 "metadata": {
  "kernelspec": {
   "display_name": "Python 3",
   "language": "python",
   "name": "python3"
  },
  "language_info": {
   "codemirror_mode": {
    "name": "ipython",
    "version": 3
   },
   "file_extension": ".py",
   "mimetype": "text/x-python",
   "name": "python",
   "nbconvert_exporter": "python",
   "pygments_lexer": "ipython3",
   "version": "3.4.3"
  }
 },
 "nbformat": 4,
 "nbformat_minor": 0
}
