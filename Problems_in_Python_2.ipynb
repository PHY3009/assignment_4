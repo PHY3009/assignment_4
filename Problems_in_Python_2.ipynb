{
 "cells": [
  {
   "cell_type": "markdown",
   "metadata": {},
   "source": [
    "#Problems in Python 2"
   ]
  },
  {
   "cell_type": "code",
   "execution_count": 166,
   "metadata": {
    "collapsed": true
   },
   "outputs": [],
   "source": [
    "# The function numpy is imported to load texts and complete other commands\n",
    "\n",
    "import numpy"
   ]
  },
  {
   "cell_type": "code",
   "execution_count": 167,
   "metadata": {
    "collapsed": false
   },
   "outputs": [
    {
     "name": "stdout",
     "output_type": "stream",
     "text": [
      "Newton\n"
     ]
    }
   ],
   "source": [
    "# A string of characters created which is later reversed in the loop\n",
    "\n",
    "word=\"Newton\"\n",
    "print(word)\n"
   ]
  },
  {
   "cell_type": "code",
   "execution_count": 175,
   "metadata": {
    "collapsed": false
   },
   "outputs": [
    {
     "name": "stdout",
     "output_type": "stream",
     "text": [
      "n\n",
      "o\n",
      "t\n",
      "w\n",
      "e\n",
      "N\n"
     ]
    }
   ],
   "source": [
    "# A loop is created to create the word- \"Newton\" in reverse order\n",
    "\n",
    "pull= -1\n",
    "\n",
    "for char in word:\n",
    "    print(word[pull])\n",
    "    \n",
    "# Here pull is subtracted from one so that the function can read the letters from right to left\n",
    "\n",
    "    pull= pull -1\n",
    "   \n"
   ]
  },
  {
   "cell_type": "code",
   "execution_count": 116,
   "metadata": {
    "collapsed": false
   },
   "outputs": [
    {
     "name": "stdout",
     "output_type": "stream",
     "text": [
      "[1 2 3 4 5 6 7 8 9]\n"
     ]
    }
   ],
   "source": [
    "# List of numbers used to find the standard error\n",
    "\n",
    "numbers= numpy.array(range(1,10))\n",
    "\n",
    "print(numbers)"
   ]
  },
  {
   "cell_type": "code",
   "execution_count": 155,
   "metadata": {
    "collapsed": false
   },
   "outputs": [],
   "source": [
    "# Loop that returns standard error\n",
    "\n",
    "def standard_error(data): \n",
    "    \n",
    "    ''' Calculated the standard error\n",
    "    Input:standard deviation\n",
    "    Output: standard error'''\n",
    "    stderror =(data.std())/(len(data)**0.5)\n",
    "    return stderror\n",
    "\n"
   ]
  },
  {
   "cell_type": "code",
   "execution_count": 173,
   "metadata": {
    "collapsed": false
   },
   "outputs": [],
   "source": [
    "# These command is used to return standard error and test the string using conditional statements.\n",
    "# Stderror represents the standard error that we are trying to find in the data\n",
    "# The variable data is defined so as to be used to find the standard error of the function\n",
    "\n",
    "data= [1 ,2, 3, 4, 5, 6, 7, 8, 9]\n",
    "\n",
    "def stderror (data):\n",
    "    if type(data)== str:\n",
    "        print(stderror, 'Input was a string, I cannot calculate the standard error of a string')\n",
    "    else:\n",
    "        stderror =(data.std())/(len(data)**0.5)\n",
    "        return stderror\n",
    "    \n",
    "       "
   ]
  },
  {
   "cell_type": "code",
   "execution_count": 161,
   "metadata": {
    "collapsed": false
   },
   "outputs": [],
   "source": [
    "# Here we are loading the inflammationd data so that we can get the standard error for each patient\n",
    "\n",
    "patient_data= numpy.loadtxt(fname=\"Inflammation/Inflammation/inflammation-01.csv\", delimiter=\",\")"
   ]
  },
  {
   "cell_type": "code",
   "execution_count": 171,
   "metadata": {
    "collapsed": true
   },
   "outputs": [],
   "source": [
    "# The function previously created is used to find the standard error for each patient\n",
    "\n",
    "def stderror (patient_data):\n",
    "    if type(patient_data)== str:\n",
    "        print(stderror, 'Input was a string, I cannot calculate the standard error of a string')\n",
    "    else:\n",
    "        stderror =(patient_data.std())/(len(patient_data)**0.5)\n",
    "        return stderror"
   ]
  },
  {
   "cell_type": "code",
   "execution_count": 169,
   "metadata": {
    "collapsed": false
   },
   "outputs": [
    {
     "name": "stdout",
     "output_type": "stream",
     "text": [
      "0.595643304487\n"
     ]
    }
   ],
   "source": [
    "# Calculating the standard error for the patient in the inflammatoon data set\n",
    "\n",
    "print(stderror(patient_data))"
   ]
  },
  {
   "cell_type": "code",
   "execution_count": null,
   "metadata": {
    "collapsed": true
   },
   "outputs": [],
   "source": []
  },
  {
   "cell_type": "code",
   "execution_count": null,
   "metadata": {
    "collapsed": true
   },
   "outputs": [],
   "source": []
  },
  {
   "cell_type": "code",
   "execution_count": null,
   "metadata": {
    "collapsed": true
   },
   "outputs": [],
   "source": []
  },
  {
   "cell_type": "code",
   "execution_count": null,
   "metadata": {
    "collapsed": true
   },
   "outputs": [],
   "source": []
  },
  {
   "cell_type": "code",
   "execution_count": null,
   "metadata": {
    "collapsed": true
   },
   "outputs": [],
   "source": []
  },
  {
   "cell_type": "code",
   "execution_count": null,
   "metadata": {
    "collapsed": true
   },
   "outputs": [],
   "source": []
  }
 ],
 "metadata": {
  "kernelspec": {
   "display_name": "Python 3",
   "language": "python",
   "name": "python3"
  },
  "language_info": {
   "codemirror_mode": {
    "name": "ipython",
    "version": 3
   },
   "file_extension": ".py",
   "mimetype": "text/x-python",
   "name": "python",
   "nbconvert_exporter": "python",
   "pygments_lexer": "ipython3",
   "version": "3.4.3"
  }
 },
 "nbformat": 4,
 "nbformat_minor": 0
}
