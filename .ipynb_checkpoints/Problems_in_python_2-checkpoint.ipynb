{
 "cells": [
  {
   "cell_type": "code",
   "execution_count": 32,
   "metadata": {
    "collapsed": false
   },
   "outputs": [
    {
     "name": "stdout",
     "output_type": "stream",
     "text": [
      "notweN\n"
     ]
    }
   ],
   "source": [
    "# I first import necessary tools to compute in the notebook\n",
    "import numpy\n",
    "import statistics\n",
    "\n",
    "# a. I want to have a word 'Newton' and reverse the order of that string so it prints backwards\n",
    "\n",
    "#I define my variable, word, to be Newton. It's a string (of letters), so it's put in quotes\n",
    "word = 'Newton'\n",
    "\n",
    "#I define the variable of the reverse of my word to be the whole word and the word from end to start\n",
    "reverse_word = word[: :-1]\n",
    "\n",
    "#I print the new variable \n",
    "print(reverse_word)"
   ]
  },
  {
   "cell_type": "code",
   "execution_count": 60,
   "metadata": {
    "collapsed": false
   },
   "outputs": [
    {
     "name": "stdout",
     "output_type": "stream",
     "text": [
      "The array is [2 3 1 0]\n",
      "The standard mean of the array is 1.5\n"
     ]
    }
   ],
   "source": [
    "# b. This function takes in an array or list of numbers and calculates the standard error\n",
    "\n",
    "#I create the input variable\n",
    "array = numpy.array([2,3,1,0])\n",
    "print('The array is', array) #testing to make sure the list work\n",
    "\n",
    "#I definte my function for standard mean\n",
    "def standard_mean(array):\n",
    "    '''Function to calculare standard mean of an array\n",
    "    Input: array\n",
    "    Output: mean of the array'''\n",
    "    mean_array = (array.sum()/len(array)) #standard mean is the sum of the array divided by the number of items\n",
    "    return mean_array #I tell python what I want the output of the function to be\n",
    "\n",
    "s_m = standard_mean(array) #I define the output variable I want printed\n",
    "print('The standard mean of the array is', s_m)\n",
    "\n"
   ]
  },
  {
   "cell_type": "code",
   "execution_count": 59,
   "metadata": {
    "collapsed": false
   },
   "outputs": [
    {
     "name": "stdout",
     "output_type": "stream",
     "text": [
      "The standard error of Array is 0.75\n"
     ]
    }
   ],
   "source": [
    "#I can now make a function to calculate standard error from standard mean\n",
    "def standard_error(array):\n",
    "    '''Function to calculare standard error of an array\n",
    "    Input: mean of the array\n",
    "    Output: standard error of the array'''\n",
    "    st_error = (s_m/(len(array))**(1/2)) #standard error is the mean divided by the square root of the number of items in the array\n",
    "    return st_error #I tell python what I want the output of the function to be\n",
    "\n",
    "s_e = standard_error(array) #I define the output\n",
    "print('The standard error of Array is', s_e)"
   ]
  },
  {
   "cell_type": "code",
   "execution_count": 140,
   "metadata": {
    "collapsed": false
   },
   "outputs": [
    {
     "name": "stdout",
     "output_type": "stream",
     "text": [
      "[2 3 1 0]\n"
     ]
    }
   ],
   "source": [
    "# c. I can test for whether an input is a string of items or a number by using an if/else loop:\n",
    "data = numpy.array([2,3,1,0])\n",
    "\n",
    "if type(array[0])== type('string'):\n",
    "        print('Input was a string, I cannot calculate the standard error of a string')\n",
    "else:\n",
    "    def standar_error(array):\n",
    "        error = (array.std())/len(array)**(1/2)\n",
    "        return error\n",
    "print(data)"
   ]
  },
  {
   "cell_type": "code",
   "execution_count": 139,
   "metadata": {
    "collapsed": false
   },
   "outputs": [
    {
     "name": "stdout",
     "output_type": "stream",
     "text": [
      "Input was a string, I cannot calculate the standard error of a string\n",
      "string\n"
     ]
    }
   ],
   "source": [
    "#I test my if/else statement by intentionally inputing a string\n",
    "data = 'string'\n",
    "\n",
    "if type(data[0])== type('string'):\n",
    "        print('Input was a string, I cannot calculate the standard error of a string')\n",
    "else:\n",
    "    def standar_error(data):\n",
    "        error = (data.std())/len(data)**(1/2)\n",
    "        return error\n",
    "print(data)"
   ]
  },
  {
   "cell_type": "code",
   "execution_count": null,
   "metadata": {
    "collapsed": false
   },
   "outputs": [],
   "source": [
    "# d. \n",
    "\n",
    "data = numpy.loadtxt(fname='infl')"
   ]
  },
  {
   "cell_type": "code",
   "execution_count": null,
   "metadata": {
    "collapsed": false
   },
   "outputs": [],
   "source": []
  },
  {
   "cell_type": "code",
   "execution_count": null,
   "metadata": {
    "collapsed": false
   },
   "outputs": [],
   "source": []
  },
  {
   "cell_type": "code",
   "execution_count": null,
   "metadata": {
    "collapsed": false
   },
   "outputs": [],
   "source": []
  },
  {
   "cell_type": "code",
   "execution_count": null,
   "metadata": {
    "collapsed": true
   },
   "outputs": [],
   "source": []
  }
 ],
 "metadata": {
  "kernelspec": {
   "display_name": "Python 3",
   "language": "python",
   "name": "python3"
  },
  "language_info": {
   "codemirror_mode": {
    "name": "ipython",
    "version": 3
   },
   "file_extension": ".py",
   "mimetype": "text/x-python",
   "name": "python",
   "nbconvert_exporter": "python",
   "pygments_lexer": "ipython3",
   "version": "3.4.3"
  }
 },
 "nbformat": 4,
 "nbformat_minor": 0
}
