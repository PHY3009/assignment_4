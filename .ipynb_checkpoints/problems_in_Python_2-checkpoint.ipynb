{
 "cells": [
  {
   "cell_type": "code",
   "execution_count": 43,
   "metadata": {
    "collapsed": true
   },
   "outputs": [],
   "source": [
    "import numpy as np"
   ]
  },
  {
   "cell_type": "code",
   "execution_count": 38,
   "metadata": {
    "collapsed": false
   },
   "outputs": [
    {
     "name": "stdout",
     "output_type": "stream",
     "text": [
      "nick\n"
     ]
    }
   ],
   "source": [
    "# created a string, with my name nick\n",
    "person_1 = 'nick'\n",
    "print(person_1)"
   ]
  },
  {
   "cell_type": "code",
   "execution_count": 39,
   "metadata": {
    "collapsed": false
   },
   "outputs": [
    {
     "name": "stdout",
     "output_type": "stream",
     "text": [
      "k\n",
      "c\n",
      "i\n",
      "n\n"
     ]
    }
   ],
   "source": [
    "#created a loop \n",
    "\n",
    "num = -1\n",
    "\n",
    "for human in person_1:\n",
    "\n",
    "    print(person_1[num])\n",
    "    \n",
    "    num = num - 1"
   ]
  },
  {
   "cell_type": "code",
   "execution_count": 44,
   "metadata": {
    "collapsed": false
   },
   "outputs": [
    {
     "name": "stdout",
     "output_type": "stream",
     "text": [
      "[1 2 3 4 5 6 7 8 9]\n"
     ]
    }
   ],
   "source": [
    "#created a list here \n",
    "\n",
    "my_list = np.array(range(1,10))\n",
    "\n",
    "print(my_list)"
   ]
  },
  {
   "cell_type": "code",
   "execution_count": 54,
   "metadata": {
    "collapsed": false
   },
   "outputs": [],
   "source": [
    "#create standard error fuction \n",
    "\n",
    "def se (data):\n",
    "    '''this is a function to calculate standard error'''\n",
    "    error = (data.std()) /(len(data)**(1/2))\n",
    "    return error\n",
    "\n"
   ]
  },
  {
   "cell_type": "code",
   "execution_count": 55,
   "metadata": {
    "collapsed": false
   },
   "outputs": [
    {
     "name": "stdout",
     "output_type": "stream",
     "text": [
      "0.860662965824\n"
     ]
    }
   ],
   "source": [
    "#print my standard error \n",
    "print(se(my_list))"
   ]
  },
  {
   "cell_type": "code",
   "execution_count": 88,
   "metadata": {
    "collapsed": false
   },
   "outputs": [],
   "source": [
    "#creating a function that will calcultes standard error if that array is made of number but if is is a string it will\n",
    "#know and print \"Input was a string, I cannot calculate the standard error of a string\"\n",
    "\n",
    "def se_2(data):\n",
    "    if type(data) == str :\n",
    "        print(\"Input was a string, I cannot calculate the standard error of a string\")\n",
    "    \n",
    "    else :\n",
    "        '''this is a function to calculate standard error'''\n",
    "        error = (data.std(axis=1)) /(len(data)**(1/2))\n",
    "        return error\n",
    "\n"
   ]
  },
  {
   "cell_type": "code",
   "execution_count": 69,
   "metadata": {
    "collapsed": false
   },
   "outputs": [
    {
     "name": "stdout",
     "output_type": "stream",
     "text": [
      "Input was a string, I cannot calculate the standard error of a string\n",
      "None\n"
     ]
    }
   ],
   "source": [
    "# here is a check to see if my fuction works with a string\n",
    "print(se_2(person_1))"
   ]
  },
  {
   "cell_type": "code",
   "execution_count": 70,
   "metadata": {
    "collapsed": false
   },
   "outputs": [
    {
     "name": "stdout",
     "output_type": "stream",
     "text": [
      "0.860662965824\n"
     ]
    }
   ],
   "source": [
    "# here is a check to see if my fuction works with a array\n",
    "print(se_2(my_list))"
   ]
  },
  {
   "cell_type": "code",
   "execution_count": 77,
   "metadata": {
    "collapsed": false
   },
   "outputs": [],
   "source": [
    "#here inflammation was uploaded \n",
    "inflammation = numpy.loadtxt(fname='inflammation-01.csv', delimiter=',')"
   ]
  },
  {
   "cell_type": "code",
   "execution_count": 89,
   "metadata": {
    "collapsed": false
   },
   "outputs": [
    {
     "name": "stdout",
     "output_type": "stream",
     "text": [
      "[ 0.5032809   0.55818717  0.61427464  0.55136195  0.52356948  0.61202362\n",
      "  0.54274572  0.67364061  0.59560019  0.65318929  0.64967139  0.55767374\n",
      "  0.54733255  0.57063561  0.54580789  0.57893581  0.62911976  0.60635523\n",
      "  0.57121946  0.65761564  0.62748672  0.516307    0.61973617  0.59357673\n",
      "  0.6125085   0.60200187  0.65060869  0.60586543  0.61973617  0.65316537\n",
      "  0.56042209  0.5784678   0.55751495  0.54251536  0.71611655  0.5780625\n",
      "  0.5270891   0.64391381  0.63795735  0.59843546  0.60172495  0.58593764\n",
      "  0.58037344  0.58152099  0.57644745  0.49948932  0.69371434  0.58491452\n",
      "  0.53615141  0.6198034   0.49261209  0.63887923  0.60338455  0.52795794\n",
      "  0.64870865  0.51736512  0.62566631  0.57792733  0.608242    0.58651513]\n"
     ]
    }
   ],
   "source": [
    "#calculate the standard error for each patient in inflammation-01.csv\n",
    "\n",
    "print(se_2(inflammation))\n"
   ]
  },
  {
   "cell_type": "code",
   "execution_count": null,
   "metadata": {
    "collapsed": true
   },
   "outputs": [],
   "source": []
  },
  {
   "cell_type": "code",
   "execution_count": null,
   "metadata": {
    "collapsed": true
   },
   "outputs": [],
   "source": []
  },
  {
   "cell_type": "code",
   "execution_count": null,
   "metadata": {
    "collapsed": true
   },
   "outputs": [],
   "source": []
  },
  {
   "cell_type": "code",
   "execution_count": null,
   "metadata": {
    "collapsed": true
   },
   "outputs": [],
   "source": []
  },
  {
   "cell_type": "code",
   "execution_count": null,
   "metadata": {
    "collapsed": true
   },
   "outputs": [],
   "source": []
  },
  {
   "cell_type": "code",
   "execution_count": null,
   "metadata": {
    "collapsed": true
   },
   "outputs": [],
   "source": []
  }
 ],
 "metadata": {
  "kernelspec": {
   "display_name": "Python 3",
   "language": "python",
   "name": "python3"
  },
  "language_info": {
   "codemirror_mode": {
    "name": "ipython",
    "version": 3
   },
   "file_extension": ".py",
   "mimetype": "text/x-python",
   "name": "python",
   "nbconvert_exporter": "python",
   "pygments_lexer": "ipython3",
   "version": "3.4.3"
  }
 },
 "nbformat": 4,
 "nbformat_minor": 0
}
