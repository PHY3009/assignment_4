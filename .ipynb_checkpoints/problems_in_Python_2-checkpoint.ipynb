{
 "cells": [
  {
   "cell_type": "code",
   "execution_count": 46,
   "metadata": {
    "collapsed": false
   },
   "outputs": [
    {
     "name": "stdout",
     "output_type": "stream",
     "text": [
      " notweN\n"
     ]
    }
   ],
   "source": [
    "#These are ny two variables, one empty.\n",
    "word = 'Newton'\n",
    "drow = ' '\n",
    "for letter in word:\n",
    "# In this line I add the last letter of word to drow\n",
    "    drow += word[-1:]\n",
    "#In this line I redifine word as having one less letter and start over.\n",
    "    word = word[0:len(word)-1]\n",
    "    \n",
    "    \n",
    "print (drow)\n",
    "    "
   ]
  },
  {
   "cell_type": "code",
   "execution_count": 19,
   "metadata": {
    "collapsed": false
   },
   "outputs": [],
   "source": [
    "import numpy\n",
    "import matplotlib.pyplot    \n",
    "\n",
    "    "
   ]
  },
  {
   "cell_type": "code",
   "execution_count": 113,
   "metadata": {
    "collapsed": false
   },
   "outputs": [],
   "source": [
    "\n",
    "        \n",
    "    "
   ]
  },
  {
   "cell_type": "code",
   "execution_count": 114,
   "metadata": {
    "collapsed": false
   },
   "outputs": [
    {
     "ename": "TypeError",
     "evalue": "'int' object is not subscriptable",
     "output_type": "error",
     "traceback": [
      "\u001b[1;31m---------------------------------------------------------------------------\u001b[0m",
      "\u001b[1;31mTypeError\u001b[0m                                 Traceback (most recent call last)",
      "\u001b[1;32m<ipython-input-114-9bad8327e94a>\u001b[0m in \u001b[0;36m<module>\u001b[1;34m()\u001b[0m\n\u001b[0;32m      1\u001b[0m \u001b[0mdata\u001b[0m \u001b[1;33m=\u001b[0m \u001b[1;36m2\u001b[0m\u001b[1;33m,\u001b[0m\u001b[1;36m4\u001b[0m\u001b[1;33m,\u001b[0m\u001b[1;36m6\u001b[0m\u001b[1;33m,\u001b[0m\u001b[1;36m8\u001b[0m\u001b[1;33m,\u001b[0m\u001b[1;36m10\u001b[0m\u001b[1;33m\u001b[0m\u001b[0m\n\u001b[1;32m----> 2\u001b[1;33m \u001b[0mstan_dev\u001b[0m\u001b[1;33m(\u001b[0m\u001b[0mdata\u001b[0m\u001b[1;33m)\u001b[0m\u001b[1;33m\u001b[0m\u001b[0m\n\u001b[0m",
      "\u001b[1;32m<ipython-input-113-88829c7c39b2>\u001b[0m in \u001b[0;36mstan_dev\u001b[1;34m(list)\u001b[0m\n\u001b[0;32m      1\u001b[0m \u001b[1;32mdef\u001b[0m \u001b[0mstan_dev\u001b[0m\u001b[1;33m(\u001b[0m\u001b[0mlist\u001b[0m\u001b[1;33m)\u001b[0m\u001b[1;33m:\u001b[0m\u001b[1;33m\u001b[0m\u001b[0m\n\u001b[0;32m      2\u001b[0m     \u001b[1;32mfor\u001b[0m \u001b[0mnumber\u001b[0m \u001b[1;32min\u001b[0m \u001b[0mlist\u001b[0m\u001b[1;33m:\u001b[0m\u001b[1;33m\u001b[0m\u001b[0m\n\u001b[1;32m----> 3\u001b[1;33m         \u001b[0mvariance\u001b[0m \u001b[1;33m=\u001b[0m \u001b[1;33m(\u001b[0m\u001b[0mnumber\u001b[0m\u001b[1;33m[\u001b[0m\u001b[0mlist\u001b[0m\u001b[1;33m]\u001b[0m \u001b[1;33m-\u001b[0m \u001b[1;36m6\u001b[0m\u001b[1;33m)\u001b[0m\u001b[1;33m**\u001b[0m\u001b[1;36m2\u001b[0m\u001b[1;33m\u001b[0m\u001b[0m\n\u001b[0m\u001b[0;32m      4\u001b[0m         \u001b[0mstd\u001b[0m \u001b[1;33m=\u001b[0m \u001b[1;33m(\u001b[0m\u001b[0mvariance\u001b[0m\u001b[1;33m)\u001b[0m\u001b[1;33m**\u001b[0m\u001b[1;36m.5\u001b[0m\u001b[1;33m\u001b[0m\u001b[0m\n\u001b[0;32m      5\u001b[0m         \u001b[1;32mreturn\u001b[0m \u001b[0mvariance\u001b[0m\u001b[1;33m\u001b[0m\u001b[0m\n",
      "\u001b[1;31mTypeError\u001b[0m: 'int' object is not subscriptable"
     ]
    }
   ],
   "source": []
  },
  {
   "cell_type": "code",
   "execution_count": 313,
   "metadata": {
    "collapsed": false
   },
   "outputs": [],
   "source": [
    "def stan_dev(list):\n",
    "    total = 0\n",
    "    mean = sum(list)/len(list)\n",
    "    #first I made a variable to hold the total till I could divide it. \n",
    "    for number in list:\n",
    "        total += (number - mean)**2\n",
    "        #Then I calculated variance.\n",
    "        variance = total/len(list)\n",
    "        #and finally I calculate standard deviation. \n",
    "        std = (variance)**.5\n",
    "\n",
    "        \n",
    "    return std\n",
    "    \n",
    "\n",
    "\n",
    "        "
   ]
  },
  {
   "cell_type": "code",
   "execution_count": 314,
   "metadata": {
    "collapsed": false
   },
   "outputs": [
    {
     "data": {
      "text/plain": [
       "2.8284271247461903"
      ]
     },
     "execution_count": 314,
     "metadata": {},
     "output_type": "execute_result"
    }
   ],
   "source": [
    "data = 2,4,6,8,10\n",
    "stan_dev(data)\n",
    "\n"
   ]
  },
  {
   "cell_type": "code",
   "execution_count": 31,
   "metadata": {
    "collapsed": false
   },
   "outputs": [],
   "source": [
    "#I tried to make it work with if/else for hours, but I couldn't find a way to stop if from erroring before it even hit the else statement. \n",
    "#Using try/except however got the right results. \n",
    "def stan_dev(list):\n",
    "    try:\n",
    "        for number in list:\n",
    "            mean = sum(list)/len(list)\n",
    "            total = 0\n",
    "            total += (number - mean)**2\n",
    "            #Then I calculated variance.\n",
    "            variance = total/len(list)\n",
    "            #and finally I calculate standard deviation. \n",
    "            std = (variance)**.5\n",
    "           \n",
    "            #I made an empty variable called total, added the numbers in the list after subtracting the mean, then squared. \n",
    "            total += (number - mean)**2\n",
    "            #Then I calculated variance.\n",
    "            variance = total/len(list)\n",
    "            # finally I calculate standard deviation. \n",
    "            std = (variance)**.5\n",
    "            return std\n",
    "            print (std)\n",
    "    except:\n",
    "        print ('Input was a string, I cannot calculate the standard error of a string')\n",
    "        \n",
    "\n",
    "    \n",
    "\n",
    "\n",
    "        "
   ]
  },
  {
   "cell_type": "code",
   "execution_count": 32,
   "metadata": {
    "collapsed": false
   },
   "outputs": [
    {
     "data": {
      "text/plain": [
       "2.5298221281347035"
      ]
     },
     "execution_count": 32,
     "metadata": {},
     "output_type": "execute_result"
    }
   ],
   "source": [
    "data = 2,4,6,8,10\n",
    "stan_dev(data)"
   ]
  },
  {
   "cell_type": "code",
   "execution_count": 36,
   "metadata": {
    "collapsed": false
   },
   "outputs": [
    {
     "data": {
      "text/plain": [
       "array([ 0.        ,  0.08215838,  0.02130032,  0.22821773,  0.26168967,\n",
       "        0.20996031,  0.03651484,  0.56902288,  0.50512191,  0.45947837,\n",
       "        0.53859385,  0.52946514,  0.30124741,  0.49903611,  0.24951805,\n",
       "        1.00415802,  0.47164998,  0.66335288,  0.07911548,  1.03154415,\n",
       "        1.32366285,  0.18865999,  0.00608581,  0.15214515,  0.54772256,\n",
       "        0.30429031,  0.94025706,  0.22821773,  0.12171612,  0.25864676,\n",
       "        0.37731998,  0.35601966,  0.02130032,  0.62075223,  0.05477226,\n",
       "        0.07911548,  0.08824419,  0.27386128,  0.20691741,  0.10345871])"
      ]
     },
     "execution_count": 36,
     "metadata": {},
     "output_type": "execute_result"
    }
   ],
   "source": [
    "#This is the closest I could get\n",
    "#For some reason it won't let me run the function on specific axis without giving me the \n",
    "#not callable error you can see below. \n",
    "inflammation = numpy.loadtxt(fname='inflammation-01.csv', delimiter=',')\n",
    "stan_dev(inflammation)\n"
   ]
  },
  {
   "cell_type": "code",
   "execution_count": 37,
   "metadata": {
    "collapsed": false,
    "scrolled": true
   },
   "outputs": [
    {
     "ename": "TypeError",
     "evalue": "'numpy.ndarray' object is not callable",
     "output_type": "error",
     "traceback": [
      "\u001b[1;31m---------------------------------------------------------------------------\u001b[0m",
      "\u001b[1;31mTypeError\u001b[0m                                 Traceback (most recent call last)",
      "\u001b[1;32m<ipython-input-37-bba4de750198>\u001b[0m in \u001b[0;36m<module>\u001b[1;34m()\u001b[0m\n\u001b[1;32m----> 1\u001b[1;33m \u001b[0mstan_dev\u001b[0m\u001b[1;33m(\u001b[0m\u001b[0minflammation\u001b[0m\u001b[1;33m(\u001b[0m\u001b[0maxis\u001b[0m\u001b[1;33m=\u001b[0m\u001b[1;36m1\u001b[0m\u001b[1;33m)\u001b[0m\u001b[1;33m)\u001b[0m\u001b[1;33m\u001b[0m\u001b[0m\n\u001b[0m",
      "\u001b[1;31mTypeError\u001b[0m: 'numpy.ndarray' object is not callable"
     ]
    }
   ],
   "source": [
    "stan_dev(inflammation(axis=1))"
   ]
  },
  {
   "cell_type": "code",
   "execution_count": 35,
   "metadata": {
    "collapsed": false
   },
   "outputs": [
    {
     "data": {
      "text/plain": [
       "array([ 0.        ,  0.08215838,  0.02130032,  0.22821773,  0.26168967,\n",
       "        0.20996031,  0.03651484,  0.56902288,  0.50512191,  0.45947837,\n",
       "        0.53859385,  0.52946514,  0.30124741,  0.49903611,  0.24951805,\n",
       "        1.00415802,  0.47164998,  0.66335288,  0.07911548,  1.03154415,\n",
       "        1.32366285,  0.18865999,  0.00608581,  0.15214515,  0.54772256,\n",
       "        0.30429031,  0.94025706,  0.22821773,  0.12171612,  0.25864676,\n",
       "        0.37731998,  0.35601966,  0.02130032,  0.62075223,  0.05477226,\n",
       "        0.07911548,  0.08824419,  0.27386128,  0.20691741,  0.10345871])"
      ]
     },
     "execution_count": 35,
     "metadata": {},
     "output_type": "execute_result"
    }
   ],
   "source": []
  },
  {
   "cell_type": "code",
   "execution_count": null,
   "metadata": {
    "collapsed": true
   },
   "outputs": [],
   "source": []
  },
  {
   "cell_type": "code",
   "execution_count": null,
   "metadata": {
    "collapsed": true
   },
   "outputs": [],
   "source": []
  }
 ],
 "metadata": {
  "kernelspec": {
   "display_name": "Python 3",
   "language": "python",
   "name": "python3"
  },
  "language_info": {
   "codemirror_mode": {
    "name": "ipython",
    "version": 3
   },
   "file_extension": ".py",
   "mimetype": "text/x-python",
   "name": "python",
   "nbconvert_exporter": "python",
   "pygments_lexer": "ipython3",
   "version": "3.4.3"
  }
 },
 "nbformat": 4,
 "nbformat_minor": 0
}
