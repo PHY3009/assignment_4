{
 "cells": [
  {
   "cell_type": "code",
   "execution_count": 43,
   "metadata": {
    "collapsed": true
   },
   "outputs": [],
   "source": [
    "import numpy as np"
   ]
  },
  {
   "cell_type": "code",
   "execution_count": 38,
   "metadata": {
    "collapsed": false
   },
   "outputs": [
    {
     "name": "stdout",
     "output_type": "stream",
     "text": [
      "nick\n"
     ]
    }
   ],
   "source": [
    "# created a string, with my name nick\n",
    "person_1 = 'nick'\n",
    "print(person_1)"
   ]
  },
  {
   "cell_type": "code",
   "execution_count": 39,
   "metadata": {
    "collapsed": false
   },
   "outputs": [
    {
     "name": "stdout",
     "output_type": "stream",
     "text": [
      "k\n",
      "c\n",
      "i\n",
      "n\n"
     ]
    }
   ],
   "source": [
    "#created a loop \n",
    "\n",
    "num = -1\n",
    "\n",
    "for human in person_1:\n",
    "\n",
    "    print(person_1[num])\n",
    "    \n",
    "    num = num - 1"
   ]
  },
  {
   "cell_type": "code",
   "execution_count": 44,
   "metadata": {
    "collapsed": false
   },
   "outputs": [
    {
     "name": "stdout",
     "output_type": "stream",
     "text": [
      "[1 2 3 4 5 6 7 8 9]\n"
     ]
    }
   ],
   "source": [
    "#created a list here \n",
    "\n",
    "my_list = np.array(range(1,10))\n",
    "\n",
    "print(my_list)"
   ]
  },
  {
   "cell_type": "code",
   "execution_count": 54,
   "metadata": {
    "collapsed": false
   },
   "outputs": [],
   "source": [
    "#create standard error fuction \n",
    "\n",
    "def se (data):\n",
    "    '''this is a function to calculate standard error'''\n",
    "    error = (data.std()) /(len(data)**(1/2))\n",
    "    return error\n",
    "\n"
   ]
  },
  {
   "cell_type": "code",
   "execution_count": 55,
   "metadata": {
    "collapsed": false
   },
   "outputs": [
    {
     "name": "stdout",
     "output_type": "stream",
     "text": [
      "0.860662965824\n"
     ]
    }
   ],
   "source": [
    "#print my standard error \n",
    "print(se(my_list))"
   ]
  },
  {
   "cell_type": "code",
   "execution_count": 67,
   "metadata": {
    "collapsed": false
   },
   "outputs": [],
   "source": [
    "#creating a function that will calcultes standard error if that array is made of number but if is is a string it will\n",
    "#know and print \"Input was a string, I cannot calculate the standard error of a string\"\n",
    "\n",
    "def se_2(data):\n",
    "    if type(data) == str :\n",
    "        print(\"Input was a string, I cannot calculate the standard error of a string\")\n",
    "    \n",
    "    else :\n",
    "        '''this is a function to calculate standard error'''\n",
    "        error = (data.std()) /(len(data)**(1/2))\n",
    "        return error\n",
    "\n"
   ]
  },
  {
   "cell_type": "code",
   "execution_count": 69,
   "metadata": {
    "collapsed": false
   },
   "outputs": [
    {
     "name": "stdout",
     "output_type": "stream",
     "text": [
      "Input was a string, I cannot calculate the standard error of a string\n",
      "None\n"
     ]
    }
   ],
   "source": [
    "# here is a check to see if my fuction works with a string\n",
    "print(se_2(person_1))"
   ]
  },
  {
   "cell_type": "code",
   "execution_count": 70,
   "metadata": {
    "collapsed": false
   },
   "outputs": [
    {
     "name": "stdout",
     "output_type": "stream",
     "text": [
      "0.860662965824\n"
     ]
    }
   ],
   "source": [
    "# here is a check to see if my fuction works with a array\n",
    "print(se_2(my_list))"
   ]
  },
  {
   "cell_type": "code",
   "execution_count": null,
   "metadata": {
    "collapsed": true
   },
   "outputs": [],
   "source": []
  },
  {
   "cell_type": "code",
   "execution_count": null,
   "metadata": {
    "collapsed": true
   },
   "outputs": [],
   "source": []
  },
  {
   "cell_type": "code",
   "execution_count": null,
   "metadata": {
    "collapsed": true
   },
   "outputs": [],
   "source": []
  },
  {
   "cell_type": "code",
   "execution_count": null,
   "metadata": {
    "collapsed": true
   },
   "outputs": [],
   "source": []
  }
 ],
 "metadata": {
  "kernelspec": {
   "display_name": "Python 3",
   "language": "python",
   "name": "python3"
  },
  "language_info": {
   "codemirror_mode": {
    "name": "ipython",
    "version": 3
   },
   "file_extension": ".py",
   "mimetype": "text/x-python",
   "name": "python",
   "nbconvert_exporter": "python",
   "pygments_lexer": "ipython3",
   "version": "3.4.3"
  }
 },
 "nbformat": 4,
 "nbformat_minor": 0
}
