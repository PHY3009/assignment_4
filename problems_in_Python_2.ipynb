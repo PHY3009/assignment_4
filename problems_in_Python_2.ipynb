{
 "cells": [
  {
   "cell_type": "code",
   "execution_count": 6,
   "metadata": {
    "collapsed": true
   },
   "outputs": [],
   "source": [
    "import numpy"
   ]
  },
  {
   "cell_type": "code",
   "execution_count": 31,
   "metadata": {
    "collapsed": false
   },
   "outputs": [
    {
     "name": "stdout",
     "output_type": "stream",
     "text": [
      "n\n",
      "o\n",
      "t\n",
      "w\n",
      "e\n",
      "N\n"
     ]
    }
   ],
   "source": [
    "#Miriam Baumann, 2015-10-30\n",
    "length = 0                      \n",
    "word = 'Newton'\n",
    "for char in word:               #Creating a loop that prints characters of the word in reverse order\n",
    "    length = length -1          #Defining length as length -1 which will count from the last letter first\n",
    "    #print(length)\n",
    "    print(word[length])         #Printing the word according to the length \n",
    "\n",
    "    "
   ]
  },
  {
   "cell_type": "code",
   "execution_count": 32,
   "metadata": {
    "collapsed": false
   },
   "outputs": [],
   "source": [
    "def standard_error(data):                       #Defining a function for standard error\n",
    "    '''This function calculates standard error'''\n",
    "    se = (data.std()) /((len(data))**0.5)       #Standard error = standard deviation/ sqrt(number of data points)\n",
    "    return se\n",
    "\n",
    "    "
   ]
  },
  {
   "cell_type": "code",
   "execution_count": 21,
   "metadata": {
    "collapsed": false
   },
   "outputs": [
    {
     "name": "stdout",
     "output_type": "stream",
     "text": [
      "[1 2 3 4]\n"
     ]
    }
   ],
   "source": [
    "data =numpy.array([1,2,3,4])           #Giving a value to data to test the if/ else statement\n",
    "\n",
    "if type(data[0])==type(\"string\"):      #This says: If the type of data is a string it will not work, because you cannot calculate the standard error of a string\n",
    "    print(\"Input was a string, I cannot calculate the standard error of a string\")\n",
    "else:                                  #This says: If the type of data are numbers it will calculate the standard error using the defined function\n",
    "    def standard_error(data):       \n",
    "        se = (data.std()) /((len(data))**0.5) \n",
    "        return se\n",
    "print(data)\n",
    "    "
   ]
  },
  {
   "cell_type": "code",
   "execution_count": 12,
   "metadata": {
    "collapsed": false
   },
   "outputs": [
    {
     "data": {
      "text/plain": [
       "(60, 40)"
      ]
     },
     "execution_count": 12,
     "metadata": {},
     "output_type": "execute_result"
    }
   ],
   "source": [
    "data1 = numpy.loadtxt(fname='inflammation-01.csv', delimiter= ',')   #Loading the inflammation data file into python\n",
    "\n",
    "data1.shape     #To see what the shape of the dataset is"
   ]
  },
  {
   "cell_type": "code",
   "execution_count": 13,
   "metadata": {
    "collapsed": false
   },
   "outputs": [
    {
     "name": "stdout",
     "output_type": "stream",
     "text": [
      "[ 0.5032809   0.55818717  0.61427464  0.55136195  0.52356948  0.61202362\n",
      "  0.54274572  0.67364061  0.59560019  0.65318929  0.64967139  0.55767374\n",
      "  0.54733255  0.57063561  0.54580789  0.57893581  0.62911976  0.60635523\n",
      "  0.57121946  0.65761564  0.62748672  0.516307    0.61973617  0.59357673\n",
      "  0.6125085   0.60200187  0.65060869  0.60586543  0.61973617  0.65316537\n",
      "  0.56042209  0.5784678   0.55751495  0.54251536  0.71611655  0.5780625\n",
      "  0.5270891   0.64391381  0.63795735  0.59843546  0.60172495  0.58593764\n",
      "  0.58037344  0.58152099  0.57644745  0.49948932  0.69371434  0.58491452\n",
      "  0.53615141  0.6198034   0.49261209  0.63887923  0.60338455  0.52795794\n",
      "  0.64870865  0.51736512  0.62566631  0.57792733  0.608242    0.58651513]\n"
     ]
    }
   ],
   "source": [
    "ind_patient_error = (data1.std(axis=1)) /(len(data1)**0.5)  #Finding the standard error per patient\n",
    "# Finding the standard deviation for every patient, which is axis 1, because patients are located in the rows of the data set\n",
    "# Finding the length of the data set by inputting the full data set\n",
    "# This is the formula used to define standard_error\n",
    "print (ind_patient_error)"
   ]
  },
  {
   "cell_type": "code",
   "execution_count": null,
   "metadata": {
    "collapsed": true
   },
   "outputs": [],
   "source": []
  }
 ],
 "metadata": {
  "kernelspec": {
   "display_name": "Python 3",
   "language": "python",
   "name": "python3"
  },
  "language_info": {
   "codemirror_mode": {
    "name": "ipython",
    "version": 3
   },
   "file_extension": ".py",
   "mimetype": "text/x-python",
   "name": "python",
   "nbconvert_exporter": "python",
   "pygments_lexer": "ipython3",
   "version": "3.4.3"
  }
 },
 "nbformat": 4,
 "nbformat_minor": 0
}
