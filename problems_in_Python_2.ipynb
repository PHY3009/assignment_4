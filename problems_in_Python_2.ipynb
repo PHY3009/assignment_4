{
 "cells": [
  {
   "cell_type": "code",
   "execution_count": 10,
   "metadata": {
    "collapsed": false
   },
   "outputs": [],
   "source": [
    "# import library numpy\n",
    "import numpy"
   ]
  },
  {
   "cell_type": "code",
   "execution_count": 51,
   "metadata": {
    "collapsed": false
   },
   "outputs": [
    {
     "name": "stdout",
     "output_type": "stream",
     "text": [
      "n\n",
      "o\n",
      "t\n",
      "w\n",
      "e\n",
      "N\n"
     ]
    }
   ],
   "source": [
    "# create a string, and then use the reversed() to reverse the word Newton into notweN\n",
    "\n",
    "word = \"Newton\"\n",
    "for i in reversed(word):\n",
    "    print(i)"
   ]
  },
  {
   "cell_type": "code",
   "execution_count": 26,
   "metadata": {
    "collapsed": true
   },
   "outputs": [],
   "source": [
    "# create a function to calculate square roots (I googled the code to create the function for square root)\n",
    "def sqrt(x): \n",
    "    '''Function to calculate square root\n",
    "    Input: a number\n",
    "    Outpur: square root of that number'''\n",
    "    return x**0.5"
   ]
  },
  {
   "cell_type": "code",
   "execution_count": 107,
   "metadata": {
    "collapsed": true
   },
   "outputs": [],
   "source": [
    "# create a function to calculate standard error usig the sqrt function that we created earlier, however it requrie us to input the sample size (n).\n",
    "# we input the dataset, sample size(n), and the axis that we want to calculate\n",
    "def nums_to_ste(nums, n, x):\n",
    "    ste = nums.std(axis=x) / sqrt(n)\n",
    "    '''Function to calcualte standard error\n",
    "    Input: dataset, and the sample size(n)\n",
    "    Output: standard error of that dataset'''\n",
    "    return ste"
   ]
  },
  {
   "cell_type": "code",
   "execution_count": 116,
   "metadata": {
    "collapsed": false
   },
   "outputs": [],
   "source": [
    "# import the dataset\n",
    "data = numpy.loadtxt(\"inflammation-01.csv\", delimiter=\",\")"
   ]
  },
  {
   "cell_type": "code",
   "execution_count": 130,
   "metadata": {
    "collapsed": false
   },
   "outputs": [
    {
     "name": "stdout",
     "output_type": "stream",
     "text": [
      "[ 0.6163907   0.68363687  0.75232971  0.67527772  0.64123903  0.74957279\n",
      "  0.66472504  0.82503788  0.72945828  0.79999023  0.7956817   0.68300805\n",
      "  0.67034273  0.69888304  0.66847541  0.70904866  0.77051119  0.74263046\n",
      "  0.6995981   0.80541139  0.76851114  0.63234435  0.75901869  0.72698005\n",
      "  0.75016665  0.7372987   0.79682966  0.74203058  0.75901869  0.79996094\n",
      "  0.68637408  0.70847548  0.68281357  0.66444291  0.87706007  0.70797908\n",
      "  0.64554967  0.78863014  0.781335    0.73293076  0.73695955  0.71762412\n",
      "  0.7108094   0.71221486  0.70600106  0.61174699  0.84962308  0.71637106\n",
      "  0.65664869  0.75910103  0.60332413  0.78246406  0.73899213  0.64661378\n",
      "  0.7945026   0.63364028  0.76628161  0.70781353  0.74494127  0.7183314 ]\n"
     ]
    }
   ],
   "source": [
    "# create a if/else statement asking the program to choose if the imported dataset is a string or not. If it is a string, it will print  (\"Input was a string, I cannot calculate the standard error of a string\")\n",
    "# if the imported dataset is not a string, then it will calculate the standard error using the function we built earlier\n",
    "if type(data[:]) == str:\n",
    "    print(\"Input was a string, I cannot calculate the standard error of a string\")\n",
    "    \n",
    "else:\n",
    "    print(nums_to_ste(data,40,1))"
   ]
  },
  {
   "cell_type": "code",
   "execution_count": 133,
   "metadata": {
    "collapsed": false,
    "scrolled": true
   },
   "outputs": [
    {
     "name": "stdout",
     "output_type": "stream",
     "text": [
      "[ 0.6163907   0.68363687  0.75232971  0.67527772  0.64123903  0.74957279\n",
      "  0.66472504  0.82503788  0.72945828  0.79999023  0.7956817   0.68300805\n",
      "  0.67034273  0.69888304  0.66847541  0.70904866  0.77051119  0.74263046\n",
      "  0.6995981   0.80541139  0.76851114  0.63234435  0.75901869  0.72698005\n",
      "  0.75016665  0.7372987   0.79682966  0.74203058  0.75901869  0.79996094\n",
      "  0.68637408  0.70847548  0.68281357  0.66444291  0.87706007  0.70797908\n",
      "  0.64554967  0.78863014  0.781335    0.73293076  0.73695955  0.71762412\n",
      "  0.7108094   0.71221486  0.70600106  0.61174699  0.84962308  0.71637106\n",
      "  0.65664869  0.75910103  0.60332413  0.78246406  0.73899213  0.64661378\n",
      "  0.7945026   0.63364028  0.76628161  0.70781353  0.74494127  0.7183314 ]\n"
     ]
    }
   ],
   "source": [
    "# this calculates the standard error of the dataset: inflammation-01.csv\n",
    "# input the dataset, which I named it \"data\". Sample size, which we can know from each patient has 40 days of data, so n=40. Axis=1 to calculate each patient\n",
    "\n",
    "print(nums_to_ste(data,40,1))"
   ]
  },
  {
   "cell_type": "code",
   "execution_count": null,
   "metadata": {
    "collapsed": false
   },
   "outputs": [],
   "source": []
  }
 ],
 "metadata": {
  "kernelspec": {
   "display_name": "Python 3",
   "language": "python",
   "name": "python3"
  },
  "language_info": {
   "codemirror_mode": {
    "name": "ipython",
    "version": 3
   },
   "file_extension": ".py",
   "mimetype": "text/x-python",
   "name": "python",
   "nbconvert_exporter": "python",
   "pygments_lexer": "ipython3",
   "version": "3.4.3"
  }
 },
 "nbformat": 4,
 "nbformat_minor": 0
}
