{
 "cells": [
  {
   "cell_type": "code",
   "execution_count": 10,
   "metadata": {
    "collapsed": false
   },
   "outputs": [],
   "source": [
    "# import library numpy\n",
    "import numpy"
   ]
  },
  {
   "cell_type": "code",
   "execution_count": 51,
   "metadata": {
    "collapsed": false
   },
   "outputs": [
    {
     "name": "stdout",
     "output_type": "stream",
     "text": [
      "n\n",
      "o\n",
      "t\n",
      "w\n",
      "e\n",
      "N\n"
     ]
    }
   ],
   "source": [
    "# create a string, and then use the reversed() to reverse the word Newton into notweN\n",
    "\n",
    "word = \"Newton\"\n",
    "for i in reversed(word):\n",
    "    print(i)"
   ]
  },
  {
   "cell_type": "code",
   "execution_count": 26,
   "metadata": {
    "collapsed": true
   },
   "outputs": [],
   "source": [
    "# create a function to calculate square roots (I googled the code to create the function for square root)\n",
    "def sqrt(x): \n",
    "    '''Function to calculate square root\n",
    "    Input: a number\n",
    "    Outpur: square root of that number'''\n",
    "    return x**0.5"
   ]
  },
  {
   "cell_type": "code",
   "execution_count": 107,
   "metadata": {
    "collapsed": true
   },
   "outputs": [],
   "source": [
    "# create a function to calculate standard error usig the sqrt function that we created earlier, however it requrie us to input the sample size (n).\n",
    "# we input the dataset, sample size(n), and the axis that we want to calculate\n",
    "def nums_to_ste(nums, n,x):\n",
    "    ste = nums.std(axis=x) / sqrt(n)\n",
    "    '''Function to calcualte standard error\n",
    "    Input: dataset, and the sample size(n)\n",
    "    Output: standard error of that dataset'''\n",
    "    return ste"
   ]
  },
  {
   "cell_type": "code",
   "execution_count": 116,
   "metadata": {
    "collapsed": false
   },
   "outputs": [],
   "source": [
    "# import the dataset\n",
    "data = numpy.loadtxt(\"inflammation-01.csv\", delimiter=\",\")"
   ]
  },
  {
   "cell_type": "code",
   "execution_count": 129,
   "metadata": {
    "collapsed": false
   },
   "outputs": [
    {
     "name": "stdout",
     "output_type": "stream",
     "text": [
      "[ 0.0795757   0.08825714  0.09712535  0.08717798  0.0827836   0.09676943\n",
      "  0.08581563  0.10651193  0.09417266  0.1032783   0.10272207  0.08817596\n",
      "  0.08654087  0.09022541  0.0862998   0.09153779  0.09947257  0.09587318\n",
      "  0.09031773  0.10397816  0.09921436  0.0816353   0.09798889  0.09385272\n",
      "  0.0968461   0.09518485  0.10287027  0.09579574  0.09798889  0.10327451\n",
      "  0.08861051  0.09146379  0.08815085  0.08577921  0.11322797  0.09139971\n",
      "  0.0833401   0.10181171  0.10086991  0.09462095  0.09514107  0.09264488\n",
      "  0.0917651   0.09194654  0.09114435  0.0789762   0.10968587  0.09248311\n",
      "  0.08477298  0.09799952  0.07788881  0.10101568  0.09540347  0.08347748\n",
      "  0.10256984  0.08180261  0.09892653  0.09137833  0.0961715   0.09273618]\n"
     ]
    }
   ],
   "source": [
    "# create a if/else statement asking the program to choose if the imported dataset is a string or not. If it is a string, it will print  (\"Input was a string, I cannot calculate the standard error of a string\")\n",
    "# if the imported dataset is not a string, then it will calculate the standard error using the function we built earlier\n",
    "if type(data[:]) == str:\n",
    "    print(\"Input was a string, I cannot calculate the standard error of a string\")\n",
    "    \n",
    "else:\n",
    "    print(nums_to_ste(data,2400,1))"
   ]
  },
  {
   "cell_type": "code",
   "execution_count": 127,
   "metadata": {
    "collapsed": false
   },
   "outputs": [
    {
     "name": "stdout",
     "output_type": "stream",
     "text": [
      "(60, 40)\n",
      "[ 0.0795757   0.08825714  0.09712535  0.08717798  0.0827836   0.09676943\n",
      "  0.08581563  0.10651193  0.09417266  0.1032783   0.10272207  0.08817596\n",
      "  0.08654087  0.09022541  0.0862998   0.09153779  0.09947257  0.09587318\n",
      "  0.09031773  0.10397816  0.09921436  0.0816353   0.09798889  0.09385272\n",
      "  0.0968461   0.09518485  0.10287027  0.09579574  0.09798889  0.10327451\n",
      "  0.08861051  0.09146379  0.08815085  0.08577921  0.11322797  0.09139971\n",
      "  0.0833401   0.10181171  0.10086991  0.09462095  0.09514107  0.09264488\n",
      "  0.0917651   0.09194654  0.09114435  0.0789762   0.10968587  0.09248311\n",
      "  0.08477298  0.09799952  0.07788881  0.10101568  0.09540347  0.08347748\n",
      "  0.10256984  0.08180261  0.09892653  0.09137833  0.0961715   0.09273618]\n"
     ]
    }
   ],
   "source": [
    "# this calculates the standard error of the dataset: inflammation-01.csv\n",
    "# input the dataset, which I named it \"data\". Sample size, which we can know from data.shape (40*60=2400). Axis=1 to calculate each patient\n",
    "\n",
    "print(data.shape)\n",
    "print(nums_to_ste(data,2400,1))"
   ]
  },
  {
   "cell_type": "code",
   "execution_count": null,
   "metadata": {
    "collapsed": false
   },
   "outputs": [],
   "source": []
  }
 ],
 "metadata": {
  "kernelspec": {
   "display_name": "Python 3",
   "language": "python",
   "name": "python3"
  },
  "language_info": {
   "codemirror_mode": {
    "name": "ipython",
    "version": 3
   },
   "file_extension": ".py",
   "mimetype": "text/x-python",
   "name": "python",
   "nbconvert_exporter": "python",
   "pygments_lexer": "ipython3",
   "version": "3.4.3"
  }
 },
 "nbformat": 4,
 "nbformat_minor": 0
}
