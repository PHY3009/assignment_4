{
 "cells": [
  {
   "cell_type": "markdown",
   "metadata": {},
   "source": [
    "## Example solutions"
   ]
  },
  {
   "cell_type": "markdown",
   "metadata": {},
   "source": [
    "a. Write a loop that takes a string, and produces a new string with the characters in reverse order, so 'Newton' becomes 'notweN'. Don't forget to comment your code."
   ]
  },
  {
   "cell_type": "code",
   "execution_count": 1,
   "metadata": {
    "collapsed": false
   },
   "outputs": [
    {
     "name": "stdout",
     "output_type": "stream",
     "text": [
      "n\n",
      "o\n",
      "t\n",
      "w\n",
      "e\n",
      "N\n"
     ]
    }
   ],
   "source": [
    "# define word\n",
    "word = \"Newton\" \n",
    "\n",
    "# define a counter and set value equal to 0\n",
    "counter = 0\n",
    "\n",
    "# loop through the number of elements in word\n",
    "for character in word:\n",
    "    # substract 1 from counter everytime in the loop\n",
    "    counter = counter - 1\n",
    "    # use counter to index word\n",
    "    print(word[counter])"
   ]
  },
  {
   "cell_type": "markdown",
   "metadata": {},
   "source": [
    "b. Write a function that takes in a list or array of numbers and calculates and returns the standard error. Don't forget to comment your code & include a docstring."
   ]
  },
  {
   "cell_type": "code",
   "execution_count": 10,
   "metadata": {
    "collapsed": false
   },
   "outputs": [
    {
     "name": "stdout",
     "output_type": "stream",
     "text": [
      "the standard error of the test array is: 0.908295106229\n"
     ]
    }
   ],
   "source": [
    "# import libraries\n",
    "import numpy\n",
    "\n",
    "# make an array\n",
    "test_array = numpy.array([1,2,3,4,5,6,7,8,9,10])\n",
    "\n",
    "# define a function to calculate the standard error for an array\n",
    "def standard_error(array):\n",
    "    '''Function calculates the standard error of a numerical array\n",
    "    Input: numpy.ndarray\n",
    "    Output: standard error'''\n",
    "    \n",
    "    # calculate the standard deviation\n",
    "    array_standard_deviation = array.std()\n",
    "    \n",
    "    # calculate the length of the array\n",
    "    array_length = len(array)\n",
    "    \n",
    "    # calculate the standard error\n",
    "    standard_error = array_standard_deviation / (len(array) ** 0.5)\n",
    "    \n",
    "    return standard_error\n",
    "    \n",
    "# test the function\n",
    "test_array_standard_error = standard_error(test_array)\n",
    "\n",
    "# print standard error\n",
    "print('the standard error of the test array is:', test_array_standard_error)"
   ]
  },
  {
   "cell_type": "markdown",
   "metadata": {},
   "source": [
    "c. What will happen if someone tries to run your standard error function using a list or array of strings? Make a new version of the function which use `if/else` statements which will calculate the standard error if the list contains numbers, but will print \"Input was a string, I cannot calculate the standard error of a string\" if the input is a string."
   ]
  },
  {
   "cell_type": "code",
   "execution_count": 21,
   "metadata": {
    "collapsed": false
   },
   "outputs": [
    {
     "name": "stdout",
     "output_type": "stream",
     "text": [
      "Input was a string, I cannot calculate the standard error of a string\n"
     ]
    }
   ],
   "source": [
    "# define a function to calculate the standard error for an array\n",
    "def standard_error(array):\n",
    "    '''Function calculates the standard error of a numerical array\n",
    "    Input: numpy.ndarray\n",
    "    Output: standard error'''\n",
    "    \n",
    "    # check if array contains strings, and if so exit out of\n",
    "    # function and let user know that this function only takes\n",
    "    # numerical input\n",
    "    if type(array[0]) == numpy.str_:\n",
    "        return 'Input was a string, I cannot calculate the standard error of a string'\n",
    "    \n",
    "    # calculate the standard deviation\n",
    "    array_standard_deviation = array.std()\n",
    "    \n",
    "    # calculate the length of the array\n",
    "    array_length = len(array)\n",
    "    \n",
    "    # calculate the standard error\n",
    "    standard_error = array_standard_deviation / (len(array) ** 0.5)\n",
    "    \n",
    "    return standard_error\n",
    "\n",
    "# test that function does not work on a string\n",
    "test_array2 = numpy.array(['a', 'b', 'c'])\n",
    "\n",
    "test_array2_standard_error = standard_error(test_array2)\n",
    "print(test_array2_standard_error)"
   ]
  },
  {
   "cell_type": "markdown",
   "metadata": {},
   "source": [
    "d. Use your function to calculate the standard error for each patient in `inflammation-01.csv`."
   ]
  },
  {
   "cell_type": "code",
   "execution_count": 23,
   "metadata": {
    "collapsed": false
   },
   "outputs": [
    {
     "name": "stdout",
     "output_type": "stream",
     "text": [
      "the standard error of the data is: 0.595643304487\n"
     ]
    }
   ],
   "source": [
    "# load data from inflammation-01.csv\n",
    "data = numpy.loadtxt(fname = 'inflammation-01.csv', delimiter = ',')\n",
    "\n",
    "# test function on the data# test the function\n",
    "data_standard_error = standard_error(data)\n",
    "\n",
    "# print standard error\n",
    "print('the standard error of the data is:', data_standard_error)"
   ]
  }
 ],
 "metadata": {
  "kernelspec": {
   "display_name": "Python 3",
   "language": "python",
   "name": "python3"
  },
  "language_info": {
   "codemirror_mode": {
    "name": "ipython",
    "version": 3
   },
   "file_extension": ".py",
   "mimetype": "text/x-python",
   "name": "python",
   "nbconvert_exporter": "python",
   "pygments_lexer": "ipython3",
   "version": "3.4.3"
  }
 },
 "nbformat": 4,
 "nbformat_minor": 0
}
